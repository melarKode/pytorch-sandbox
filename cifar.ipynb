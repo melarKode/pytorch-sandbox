{
 "cells": [
  {
   "cell_type": "code",
   "execution_count": 1,
   "metadata": {},
   "outputs": [
    {
     "name": "stdout",
     "output_type": "stream",
     "text": [
      "Files already downloaded and verified\n",
      "Files already downloaded and verified\n"
     ]
    }
   ],
   "source": [
    "from torchvision import datasets\n",
    "data_path = './unversioned_data/cifar/'\n",
    "cifar10 = datasets.CIFAR10(data_path, train=True, download=True)\n",
    "cifar10_val = datasets.CIFAR10(data_path, train=False, download=True)"
   ]
  },
  {
   "cell_type": "code",
   "execution_count": 2,
   "metadata": {},
   "outputs": [
    {
     "data": {
      "text/plain": [
       "(torchvision.datasets.cifar.CIFAR10,\n",
       " torchvision.datasets.vision.VisionDataset,\n",
       " torch.utils.data.dataset.Dataset,\n",
       " typing.Generic,\n",
       " object)"
      ]
     },
     "execution_count": 2,
     "metadata": {},
     "output_type": "execute_result"
    }
   ],
   "source": [
    "type(cifar10_val).__mro__"
   ]
  },
  {
   "cell_type": "code",
   "execution_count": 3,
   "metadata": {},
   "outputs": [
    {
     "data": {
      "text/plain": [
       "10000"
      ]
     },
     "execution_count": 3,
     "metadata": {},
     "output_type": "execute_result"
    }
   ],
   "source": [
    "len(cifar10_val)"
   ]
  },
  {
   "cell_type": "code",
   "execution_count": 5,
   "metadata": {},
   "outputs": [],
   "source": [
    "class_names=[\"airplane\" , \"automobile\" , \"bird\" , \"cat\" ,\"deer\" , \"dog\" , \"frog\" , \"horse\" , \"ship\" , \"truck\" ]"
   ]
  },
  {
   "cell_type": "code",
   "execution_count": 6,
   "metadata": {},
   "outputs": [],
   "source": [
    "import matplotlib.pyplot as plt"
   ]
  },
  {
   "cell_type": "code",
   "execution_count": 7,
   "metadata": {},
   "outputs": [
    {
     "data": {
      "text/plain": [
       "<matplotlib.image.AxesImage at 0x20490711f40>"
      ]
     },
     "execution_count": 7,
     "metadata": {},
     "output_type": "execute_result"
    },
    {
     "data": {
      "image/png": "[encoded data removed]",
      "text/plain": [
       "<Figure size 432x288 with 1 Axes>"
      ]
     },
     "metadata": {
      "needs_background": "light"
     },
     "output_type": "display_data"
    }
   ],
   "source": [
    "plt.imshow(img)"
   ]
  },
  {
   "cell_type": "code",
   "execution_count": 8,
   "metadata": {},
   "outputs": [
    {
     "data": {
      "text/plain": [
       "['AutoAugment',\n",
       " 'AutoAugmentPolicy',\n",
       " 'CenterCrop',\n",
       " 'ColorJitter',\n",
       " 'Compose',\n",
       " 'ConvertImageDtype',\n",
       " 'FiveCrop',\n",
       " 'GaussianBlur',\n",
       " 'Grayscale',\n",
       " 'InterpolationMode',\n",
       " 'Lambda',\n",
       " 'LinearTransformation',\n",
       " 'Normalize',\n",
       " 'PILToTensor',\n",
       " 'Pad',\n",
       " 'RandAugment',\n",
       " 'RandomAdjustSharpness',\n",
       " 'RandomAffine',\n",
       " 'RandomApply',\n",
       " 'RandomAutocontrast',\n",
       " 'RandomChoice',\n",
       " 'RandomCrop',\n",
       " 'RandomEqualize',\n",
       " 'RandomErasing',\n",
       " 'RandomGrayscale',\n",
       " 'RandomHorizontalFlip',\n",
       " 'RandomInvert',\n",
       " 'RandomOrder',\n",
       " 'RandomPerspective',\n",
       " 'RandomPosterize',\n",
       " 'RandomResizedCrop',\n",
       " 'RandomRotation',\n",
       " 'RandomSizedCrop',\n",
       " 'RandomSolarize',\n",
       " 'RandomVerticalFlip',\n",
       " 'Resize',\n",
       " 'Scale',\n",
       " 'TenCrop',\n",
       " 'ToPILImage',\n",
       " 'ToTensor',\n",
       " 'TrivialAugmentWide',\n",
       " '__builtins__',\n",
       " '__cached__',\n",
       " '__doc__',\n",
       " '__file__',\n",
       " '__loader__',\n",
       " '__name__',\n",
       " '__package__',\n",
       " '__path__',\n",
       " '__spec__',\n",
       " 'autoaugment',\n",
       " 'functional',\n",
       " 'functional_pil',\n",
       " 'functional_tensor',\n",
       " 'transforms']"
      ]
     },
     "execution_count": 8,
     "metadata": {},
     "output_type": "execute_result"
    }
   ],
   "source": [
    "from torchvision import transforms\n",
    "dir(transforms)"
   ]
  },
  {
   "cell_type": "code",
   "execution_count": 9,
   "metadata": {},
   "outputs": [
    {
     "data": {
      "text/plain": [
       "torch.Size([3, 32, 32])"
      ]
     },
     "execution_count": 9,
     "metadata": {},
     "output_type": "execute_result"
    }
   ],
   "source": [
    "from torchvision import transforms\n",
    "\n",
    "to_tensor = transforms.ToTensor()\n",
    "img_t = to_tensor(img)\n",
    "img_t.shape"
   ]
  },
  {
   "cell_type": "code",
   "execution_count": 10,
   "metadata": {},
   "outputs": [],
   "source": [
    "tensor_cifar10 = datasets.CIFAR10(data_path, train=True, download=False, transform=transforms.ToTensor())"
   ]
  },
  {
   "cell_type": "code",
   "execution_count": 11,
   "metadata": {},
   "outputs": [
    {
     "data": {
      "text/plain": [
       "torch.Tensor"
      ]
     },
     "execution_count": 11,
     "metadata": {},
     "output_type": "execute_result"
    }
   ],
   "source": [
    "img_t,_ = tensor_cifar10[99]\n",
    "type(img_t)"
   ]
  },
  {
   "cell_type": "code",
   "execution_count": 12,
   "metadata": {},
   "outputs": [
    {
     "data": {
      "image/png": "[encoded data removed]",
      "text/plain": [
       "<Figure size 432x288 with 1 Axes>"
      ]
     },
     "metadata": {
      "needs_background": "light"
     },
     "output_type": "display_data"
    }
   ],
   "source": [
    "plt.imshow(img_t.permute(1,2,0))\n",
    "plt.show()"
   ]
  },
  {
   "cell_type": "code",
   "execution_count": 13,
   "metadata": {},
   "outputs": [],
   "source": [
    "import torch"
   ]
  },
  {
   "cell_type": "code",
   "execution_count": 14,
   "metadata": {},
   "outputs": [
    {
     "data": {
      "text/plain": [
       "torch.Size([3, 32, 32, 50000])"
      ]
     },
     "execution_count": 14,
     "metadata": {},
     "output_type": "execute_result"
    }
   ],
   "source": [
    "imgs = torch.stack([img_t for img_t,_ in tensor_cifar10],dim=3)\n",
    "imgs.shape"
   ]
  },
  {
   "cell_type": "code",
   "execution_count": 15,
   "metadata": {},
   "outputs": [
    {
     "data": {
      "text/plain": [
       "tensor([0.4914, 0.4822, 0.4465])"
      ]
     },
     "execution_count": 15,
     "metadata": {},
     "output_type": "execute_result"
    }
   ],
   "source": [
    "imgs.view(3,-1).mean(1)"
   ]
  },
  {
   "cell_type": "code",
   "execution_count": 16,
   "metadata": {},
   "outputs": [
    {
     "data": {
      "text/plain": [
       "tensor([0.2470, 0.2435, 0.2616])"
      ]
     },
     "execution_count": 16,
     "metadata": {},
     "output_type": "execute_result"
    }
   ],
   "source": [
    "imgs.view(3,-1).std(1)"
   ]
  },
  {
   "cell_type": "code",
   "execution_count": 17,
   "metadata": {},
   "outputs": [
    {
     "data": {
      "text/plain": [
       "Normalize(mean=(0.4914, 0.4822, 0.4465), std=(0.247, 0.2435, 0.2616))"
      ]
     },
     "execution_count": 17,
     "metadata": {},
     "output_type": "execute_result"
    }
   ],
   "source": [
    "transforms.Normalize((0.4914, 0.4822, 0.4465), (0.2470, 0.2435, 0.2616))"
   ]
  },
  {
   "cell_type": "code",
   "execution_count": 18,
   "metadata": {},
   "outputs": [],
   "source": [
    "transformed_cifar10 = datasets.CIFAR10(data_path,download=False,train=True, transform=transforms.Compose([\n",
    "    transforms.ToTensor(),\n",
    "    transforms.Normalize((0.4914, 0.4822, 0.4465), (0.2470, 0.2435, 0.2616))\n",
    "]))"
   ]
  },
  {
   "cell_type": "code",
   "execution_count": 19,
   "metadata": {},
   "outputs": [
    {
     "name": "stderr",
     "output_type": "stream",
     "text": [
      "Clipping input data to the valid range for imshow with RGB data ([0..1] for floats or [0..255] for integers).\n"
     ]
    },
    {
     "data": {
      "image/png": "[encoded data removed]",
      "text/plain": [
       "<Figure size 432x288 with 1 Axes>"
      ]
     },
     "metadata": {
      "needs_background": "light"
     },
     "output_type": "display_data"
    }
   ],
   "source": [
    "img_t,_ = transformed_cifar10[99]\n",
    "\n",
    "plt.imshow(img_t.permute(1,2,0))\n",
    "plt.show()"
   ]
  },
  {
   "cell_type": "code",
   "execution_count": 20,
   "metadata": {},
   "outputs": [],
   "source": [
    "label_map={0:0,2:1}\n",
    "class_names = ['airplane','bird']\n",
    "cifar2 = [(img,label_map[label]) for img,label in cifar10 if label in [0,2]]\n",
    "cifar2_val = [(img,label_map[label]) for img,label in cifar10_val if label in [0,2]]"
   ]
  },
  {
   "cell_type": "code",
   "execution_count": 27,
   "metadata": {},
   "outputs": [
    {
     "data": {
      "text/plain": [
       "(tensor([[[-1.0051, -1.1956, -1.2591,  ...,  0.6620,  0.9160,  0.1856],\n",
       "          [-0.9892, -1.1163, -1.1639,  ...,  0.5984,  0.7255,  0.3127],\n",
       "          [-1.0686, -0.9734, -1.1004,  ...,  0.4397,  0.3920, -0.0366],\n",
       "          ...,\n",
       "          [ 0.7413,  0.2809,  0.0745,  ..., -0.4971,  0.2492,  0.2174],\n",
       "          [ 0.9160,  0.3920, -0.7193,  ..., -0.7035,  0.1539,  0.2809],\n",
       "          [ 1.3288,  0.9001,  0.2174,  ..., -1.0527,  0.0745,  0.6937]],\n",
       " \n",
       "         [[-0.9496, -1.1750, -1.2717,  ...,  0.7898,  0.9830,  0.2100],\n",
       "          [-0.9335, -1.1267, -1.1750,  ...,  0.7415,  0.8220,  0.3710],\n",
       "          [-0.9818, -0.9174, -1.0140,  ...,  0.5160,  0.4999,  0.0812],\n",
       "          ...,\n",
       "          [ 0.1939, -0.2087, -1.0784,  ..., -0.7724, -0.2409, -0.2893],\n",
       "          [ 0.3710, -0.0799, -0.9496,  ..., -0.8207, -0.0799,  0.0328],\n",
       "          [ 0.8220,  0.4516, -0.2248,  ..., -1.1106, -0.0638,  0.5321]],\n",
       " \n",
       "         [[-1.0472, -1.3170, -1.4220,  ..., -0.6724, -0.5675, -0.6275],\n",
       "          [-1.1521, -1.3170, -1.3021,  ..., -0.7924, -0.5825, -0.5525],\n",
       "          [-1.1671, -1.1521, -1.1521,  ..., -0.7774, -0.7474, -0.8523],\n",
       "          ...,\n",
       "          [-0.2227, -0.4476, -1.0772,  ..., -0.8673, -0.4176, -0.4926],\n",
       "          [ 0.0471, -0.2827, -1.0472,  ..., -0.8074, -0.2377, -0.0578],\n",
       "          [ 0.4519,  0.1371, -0.4626,  ..., -1.0022, -0.0428,  0.6917]]]),\n",
       " 1)"
      ]
     },
     "execution_count": 27,
     "metadata": {},
     "output_type": "execute_result"
    }
   ],
   "source": [
    "transformed_cifar10[99]"
   ]
  },
  {
   "cell_type": "code",
   "execution_count": 29,
   "metadata": {},
   "outputs": [],
   "source": [
    "import torch.nn as nn\n",
    "from collections import OrderedDict\n",
    "\n",
    "n_out = 2\n",
    "\n",
    "model = nn.Sequential(OrderedDict([\n",
    "    ('hidden_linear',nn.Linear(32*32*3,512)),\n",
    "    ('hidden_activation', nn.Tanh()),\n",
    "    ('output_linear',nn.Linear(512,n_out)),\n",
    "    ('softmax_layer',nn.Softmax(1))\n",
    "]))"
   ]
  },
  {
   "cell_type": "code",
   "execution_count": 32,
   "metadata": {},
   "outputs": [],
   "source": [
    "cifar10 = datasets.CIFAR10(\n",
    "    data_path, train=True, download=False,\n",
    "    transform=transforms.Compose([\n",
    "        transforms.ToTensor(),\n",
    "        transforms.Normalize((0.4915, 0.4823, 0.4468),\n",
    "                             (0.2470, 0.2435, 0.2616))\n",
    "    ]))"
   ]
  },
  {
   "cell_type": "code",
   "execution_count": 33,
   "metadata": {},
   "outputs": [],
   "source": [
    "cifar10_val = datasets.CIFAR10(\n",
    "    data_path, train=False, download=False,\n",
    "    transform=transforms.Compose([\n",
    "        transforms.ToTensor(),\n",
    "        transforms.Normalize((0.4915, 0.4823, 0.4468),\n",
    "                             (0.2470, 0.2435, 0.2616))\n",
    "    ]))"
   ]
  },
  {
   "cell_type": "code",
   "execution_count": 37,
   "metadata": {},
   "outputs": [],
   "source": [
    "cifar2 = [(img,label_map[label]) for img, label in cifar10 if label in [0,2]]\n",
    "cifar2_val = [(img,label_map[label]) for img, label in cifar10_val if label in [0,2]]"
   ]
  },
  {
   "cell_type": "code",
   "execution_count": 38,
   "metadata": {},
   "outputs": [
    {
     "name": "stderr",
     "output_type": "stream",
     "text": [
      "Clipping input data to the valid range for imshow with RGB data ([0..1] for floats or [0..255] for integers).\n"
     ]
    },
    {
     "data": {
      "image/png": "[encoded data removed]",
      "text/plain": [
       "<Figure size 432x288 with 1 Axes>"
      ]
     },
     "metadata": {
      "needs_background": "light"
     },
     "output_type": "display_data"
    }
   ],
   "source": [
    "img,_ = cifar2[0]\n",
    "plt.imshow(img.permute(1,2,0))\n",
    "plt.show()"
   ]
  },
  {
   "cell_type": "code",
   "execution_count": 42,
   "metadata": {},
   "outputs": [],
   "source": [
    "out = model(img.view(-1).unsqueeze(0))"
   ]
  },
  {
   "cell_type": "code",
   "execution_count": 44,
   "metadata": {},
   "outputs": [
    {
     "data": {
      "text/plain": [
       "tensor([1])"
      ]
     },
     "execution_count": 44,
     "metadata": {},
     "output_type": "execute_result"
    }
   ],
   "source": [
    "out.argmax(1)"
   ]
  },
  {
   "cell_type": "code",
   "execution_count": 46,
   "metadata": {},
   "outputs": [],
   "source": [
    "model = nn.Sequential(\n",
    "    nn.Linear(32*32*3,512),\n",
    "    nn.Tanh(),\n",
    "    nn.Linear(512,2),\n",
    "    nn.LogSoftmax(1)\n",
    ")"
   ]
  },
  {
   "cell_type": "code",
   "execution_count": 47,
   "metadata": {},
   "outputs": [],
   "source": [
    "loss = nn.NLLLoss()"
   ]
  },
  {
   "cell_type": "code",
   "execution_count": 54,
   "metadata": {},
   "outputs": [
    {
     "data": {
      "text/plain": [
       "tensor(0.7285, grad_fn=<NllLossBackward0>)"
      ]
     },
     "execution_count": 54,
     "metadata": {},
     "output_type": "execute_result"
    }
   ],
   "source": [
    "img,label = cifar2[0]\n",
    "\n",
    "out = model(img.view(-1).unsqueeze(0))\n",
    "loss(out, torch.tensor([label]))"
   ]
  },
  {
   "cell_type": "code",
   "execution_count": 50,
   "metadata": {},
   "outputs": [],
   "source": [
    "import torch\n",
    "import torch.optim as optim\n",
    "import torch.nn as nn"
   ]
  },
  {
   "cell_type": "code",
   "execution_count": 51,
   "metadata": {},
   "outputs": [],
   "source": [
    "model = nn.Sequential(\n",
    "    nn.Linear(32*32*3,512),\n",
    "    nn.Tanh(),\n",
    "    nn.Linear(512,2),\n",
    "    nn.LogSoftmax(1)\n",
    ")\n",
    "\n",
    "learning_rate = 1e-2"
   ]
  },
  {
   "cell_type": "code",
   "execution_count": 52,
   "metadata": {},
   "outputs": [],
   "source": [
    "optimizer = optim.SGD(model.parameters(),learning_rate)\n",
    "n_epochs=100"
   ]
  },
  {
   "cell_type": "code",
   "execution_count": 59,
   "metadata": {},
   "outputs": [],
   "source": [
    "loss_fn = nn.NLLLoss()"
   ]
  },
  {
   "cell_type": "code",
   "execution_count": 60,
   "metadata": {},
   "outputs": [
    {
     "name": "stdout",
     "output_type": "stream",
     "text": [
      "Epoch: 1, Loss: 5.636043 \n",
      "Epoch: 2, Loss: 4.634599 \n",
      "Epoch: 3, Loss: 5.912657 \n",
      "Epoch: 4, Loss: 8.508039 \n",
      "Epoch: 5, Loss: 3.944094 \n",
      "Epoch: 6, Loss: 13.109772 \n",
      "Epoch: 7, Loss: 6.264794 \n",
      "Epoch: 8, Loss: 9.935025 \n",
      "Epoch: 9, Loss: 8.116928 \n",
      "Epoch: 10, Loss: 4.439807 \n",
      "Epoch: 11, Loss: 2.544659 \n",
      "Epoch: 12, Loss: 5.463986 \n",
      "Epoch: 13, Loss: 4.432723 \n",
      "Epoch: 14, Loss: 2.411733 \n",
      "Epoch: 15, Loss: 12.416996 \n",
      "Epoch: 16, Loss: 3.000424 \n",
      "Epoch: 17, Loss: 7.118988 \n",
      "Epoch: 18, Loss: 5.249023 \n",
      "Epoch: 19, Loss: 1.916936 \n",
      "Epoch: 20, Loss: 10.292840 \n",
      "Epoch: 21, Loss: 7.203418 \n",
      "Epoch: 22, Loss: 0.781157 \n",
      "Epoch: 23, Loss: 0.011192 \n",
      "Epoch: 24, Loss: 1.897991 \n",
      "Epoch: 25, Loss: 2.974716 \n",
      "Epoch: 26, Loss: 8.563595 \n",
      "Epoch: 27, Loss: 0.318869 \n",
      "Epoch: 28, Loss: 6.458594 \n",
      "Epoch: 29, Loss: 6.637285 \n",
      "Epoch: 30, Loss: 10.952717 \n",
      "Epoch: 31, Loss: 9.768766 \n",
      "Epoch: 32, Loss: 2.845790 \n",
      "Epoch: 33, Loss: 8.730083 \n",
      "Epoch: 34, Loss: 10.438941 \n",
      "Epoch: 35, Loss: 9.416860 \n",
      "Epoch: 36, Loss: 3.026247 \n",
      "Epoch: 37, Loss: 12.017372 \n",
      "Epoch: 38, Loss: 0.413518 \n",
      "Epoch: 39, Loss: 10.453112 \n",
      "Epoch: 40, Loss: 12.196292 \n",
      "Epoch: 41, Loss: 9.454227 \n",
      "Epoch: 42, Loss: 13.324709 \n",
      "Epoch: 43, Loss: 12.504323 \n",
      "Epoch: 44, Loss: 8.607538 \n",
      "Epoch: 45, Loss: 2.113761 \n",
      "Epoch: 46, Loss: 12.150786 \n",
      "Epoch: 47, Loss: 14.032049 \n",
      "Epoch: 48, Loss: 5.650204 \n",
      "Epoch: 49, Loss: 0.000258 \n",
      "Epoch: 50, Loss: 3.397818 \n",
      "Epoch: 51, Loss: 7.299574 \n",
      "Epoch: 52, Loss: 8.818545 \n",
      "Epoch: 53, Loss: 5.606169 \n",
      "Epoch: 54, Loss: 10.830222 \n",
      "Epoch: 55, Loss: 12.101490 \n",
      "Epoch: 56, Loss: 18.338215 \n",
      "Epoch: 57, Loss: 17.556095 \n",
      "Epoch: 58, Loss: 15.750559 \n",
      "Epoch: 59, Loss: 7.252728 \n",
      "Epoch: 60, Loss: 15.444118 \n",
      "Epoch: 61, Loss: 20.008081 \n",
      "Epoch: 62, Loss: 21.905281 \n",
      "Epoch: 63, Loss: 13.076265 \n",
      "Epoch: 64, Loss: 5.908010 \n",
      "Epoch: 65, Loss: 11.713936 \n",
      "Epoch: 66, Loss: 16.444189 \n",
      "Epoch: 67, Loss: 7.119506 \n",
      "Epoch: 68, Loss: 15.704836 \n",
      "Epoch: 69, Loss: 6.003882 \n",
      "Epoch: 70, Loss: 16.901764 \n",
      "Epoch: 71, Loss: 12.227937 \n",
      "Epoch: 72, Loss: 12.475311 \n",
      "Epoch: 73, Loss: 21.860146 \n",
      "Epoch: 74, Loss: 11.576086 \n",
      "Epoch: 75, Loss: 24.960285 \n",
      "Epoch: 76, Loss: 16.925777 \n",
      "Epoch: 77, Loss: 7.206300 \n",
      "Epoch: 78, Loss: 19.030024 \n",
      "Epoch: 79, Loss: 9.120777 \n",
      "Epoch: 80, Loss: 3.727702 \n",
      "Epoch: 81, Loss: 12.390852 \n",
      "Epoch: 82, Loss: 24.153145 \n",
      "Epoch: 83, Loss: 13.042706 \n",
      "Epoch: 84, Loss: 8.855202 \n",
      "Epoch: 85, Loss: 17.661428 \n",
      "Epoch: 86, Loss: 20.510906 \n",
      "Epoch: 87, Loss: 19.517509 \n",
      "Epoch: 88, Loss: 5.171528 \n",
      "Epoch: 89, Loss: 7.393726 \n",
      "Epoch: 90, Loss: 19.804209 \n",
      "Epoch: 91, Loss: 13.397182 \n",
      "Epoch: 92, Loss: 9.910669 \n",
      "Epoch: 93, Loss: 0.986917 \n",
      "Epoch: 94, Loss: 8.716866 \n",
      "Epoch: 95, Loss: 11.250084 \n",
      "Epoch: 96, Loss: 3.749535 \n",
      "Epoch: 97, Loss: 20.071453 \n",
      "Epoch: 98, Loss: 18.753574 \n",
      "Epoch: 99, Loss: 19.110271 \n",
      "Epoch: 100, Loss: 11.041614 \n"
     ]
    }
   ],
   "source": [
    "for epoch in range(1,n_epochs+1):\n",
    "    for img,label in cifar2:\n",
    "        out = model(img.view(-1).unsqueeze(0))\n",
    "        loss = loss_fn(out,torch.tensor([label]))\n",
    "        optimizer.zero_grad()\n",
    "        loss.backward()\n",
    "        optimizer.step()\n",
    "    print(\"Epoch: %d, Loss: %f \"%(epoch,float(loss)))"
   ]
  },
  {
   "cell_type": "code",
   "execution_count": 61,
   "metadata": {},
   "outputs": [],
   "source": [
    "val_loader = torch.utils.data.DataLoader(cifar2_val, batch_size=64,shuffle=False)"
   ]
  },
  {
   "cell_type": "code",
   "execution_count": 62,
   "metadata": {},
   "outputs": [
    {
     "name": "stdout",
     "output_type": "stream",
     "text": [
      "Accuracy:  0.7245\n"
     ]
    }
   ],
   "source": [
    "correct =0\n",
    "total=0\n",
    "\n",
    "with torch.no_grad():\n",
    "    for imgs,labels in val_loader:\n",
    "        batch_size=  imgs.shape[0]\n",
    "        outputs = model(imgs.view(batch_size,-1))\n",
    "        _,predicted = torch.max(outputs,1)\n",
    "        total+=labels.shape[0]\n",
    "        correct +=int((predicted==labels).sum())\n",
    "print(\"Accuracy: \",correct/total)"
   ]
  },
  {
   "cell_type": "code",
   "execution_count": null,
   "metadata": {},
   "outputs": [],
   "source": []
  }
 ],
 "metadata": {
  "interpreter": {
   "hash": "37949852516ccaa153c0024f6d4d7ac0036053c674905739b9a34c73111dd78b"
  },
  "kernelspec": {
   "display_name": "Python 3.9.5 64-bit",
   "language": "python",
   "name": "python3"
  },
  "language_info": {
   "codemirror_mode": {
    "name": "ipython",
    "version": 3
   },
   "file_extension": ".py",
   "mimetype": "text/x-python",
   "name": "python",
   "nbconvert_exporter": "python",
   "pygments_lexer": "ipython3",
   "version": "3.9.5"
  },
  "orig_nbformat": 4
 },
 "nbformat": 4,
 "nbformat_minor": 2
}
